{
 "cells": [
  {
   "cell_type": "code",
   "execution_count": null,
   "metadata": {},
   "outputs": [],
   "source": [
    "def filter(obj, keys):\n",
    "    return {i:obj[i] for i in obj if i in keys}\n",
    "useful = ['comment', 'pic', 'title', 'created', 'length', 'video_url','bvid','play']\n",
    "# filter(res['list']['vlist'][0],useful)\n",
    "res['list']['vlist'][0]"
   ]
  },
  {
   "cell_type": "code",
   "execution_count": 1,
   "metadata": {},
   "outputs": [
    {
     "name": "stdout",
     "output_type": "stream",
     "text": [
      "登录成功\n",
      "709fb804%2C1664116794%2C799fa*31 f4343933b15fc9b84e0a38e5e152e285 A6BA0FB1-813D-524E-2BC6-3FF00D7DCFA695461infoc 306062555\n"
     ]
    },
    {
     "name": "stderr",
     "output_type": "stream",
     "text": [
      "returning true from eof_received() has no effect when using ssl\n"
     ]
    }
   ],
   "source": [
    "from bili_user import Bilibili_user_basic, Up_manager, TableManager\n",
    "ybw = Bilibili_user_basic()\n",
    "manager = Up_manager(ybw.user)\n",
    "await manager.get_groups()\n",
    "await manager.get_followings()\n",
    "table_manager = TableManager(manager)"
   ]
  },
  {
   "cell_type": "code",
   "execution_count": 3,
   "metadata": {},
   "outputs": [
    {
     "data": {
      "text/plain": [
       "36"
      ]
     },
     "execution_count": 3,
     "metadata": {},
     "output_type": "execute_result"
    }
   ],
   "source": [
    "len(table_manager.get_treeNode_data('t:0'))"
   ]
  },
  {
   "cell_type": "code",
   "execution_count": null,
   "metadata": {},
   "outputs": [],
   "source": []
  }
 ],
 "metadata": {
  "interpreter": {
   "hash": "949777d72b0d2535278d3dc13498b2535136f6dfe0678499012e853ee9abcab1"
  },
  "kernelspec": {
   "display_name": "Python 3.9.12 64-bit",
   "language": "python",
   "name": "python3"
  },
  "language_info": {
   "codemirror_mode": {
    "name": "ipython",
    "version": 3
   },
   "file_extension": ".py",
   "mimetype": "text/x-python",
   "name": "python",
   "nbconvert_exporter": "python",
   "pygments_lexer": "ipython3",
   "version": "3.9.12"
  },
  "orig_nbformat": 4
 },
 "nbformat": 4,
 "nbformat_minor": 2
}
